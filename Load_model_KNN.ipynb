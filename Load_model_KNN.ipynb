{
 "cells": [
  {
   "cell_type": "code",
   "execution_count": 1,
   "metadata": {},
   "outputs": [
    {
     "name": "stdout",
     "output_type": "stream",
     "text": [
      "[INFO] Inputing image sample to classify...\n",
      "[INFO] Load KNN model trained ...\n",
      "[INFO] Predicting to classify...\n"
     ]
    },
    {
     "name": "stderr",
     "output_type": "stream",
     "text": [
      "2024-11-10 22:52:18.701 Python[5746:250108] +[IMKClient subclass]: chose IMKClient_Modern\n",
      "2024-11-10 22:52:18.701 Python[5746:250108] +[IMKInputSession subclass]: chose IMKInputSession_Modern\n"
     ]
    }
   ],
   "source": [
    "# import the necessary packages\n",
    "from preprocessing import imagetoarraypreprocessor\n",
    "from preprocessing import simplepreprocessor\n",
    "from datasets import simpledatasetloader\n",
    "from imutils import paths\n",
    "import numpy as np\n",
    "import cv2\n",
    "import pickle\n",
    "\n",
    "# Create lables\n",
    "classLabels = [\"cat\", \"dog\", \"panda\"]\n",
    "\n",
    "#Lấy danh sách các hình ảnh trong tập dữ liệu sau đó lấy mẫu ngẫu nhiên\n",
    "# ảnh theo chỉ số idx để đưa vào đường dẫn hình ảnh\n",
    "print(\"[INFO] Inputing image sample to classify...\")\n",
    "imagePaths = np.array(list(paths.list_images(\"image\"))) # xác định số file trong dataset (folder image)\n",
    "idxs = np.random.randint(0, len(imagePaths), size=(10,)) # Trả về 10 idxs ngẫu nhiên, 10 anh ngau nhien\n",
    "imagePaths = imagePaths[idxs]\n",
    "\n",
    "# Tiền xử lý dữ liệu ảnh\n",
    "sp = simplepreprocessor.SimplePreprocessor(32, 32) # Thiết lập kích thước ảnh 32 x 32\n",
    "iap = imagetoarraypreprocessor.ImageToArrayPreprocessor() # Gọi hàm để chuyển ảnh sang mảng\n",
    "\n",
    "\n",
    "# Nạp dataset ảnh từ đĩa lư vào đối tượng data\n",
    "sdl = simpledatasetloader.SimpleDatasetLoader(preprocessors=[sp, iap])\n",
    "(data, labels) = sdl.load(imagePaths)\n",
    "data = data.reshape((data.shape[0], 3072))\n",
    "\n",
    "# Nạp model (network) đã được train (pre-trained)\n",
    "print(\"[INFO] Load KNN model trained ...\")\n",
    "model = pickle.load(open('knnpickle_file.pkl', 'rb'))\n",
    "\n",
    "# Dự đoán nhãn (label) ảnh đầu vào. Ảnh được lưu trong data\n",
    "print(\"[INFO] Predicting to classify...\")\n",
    "preds = model.predict(data)\n",
    "\n",
    "# Lặp qua tất cả các file ảnh trong imagePaths và thực hiện trên từng ảnh, gồm:\n",
    "# Nạp ảnh --> tạo label dự đoán trên ảnh --> Hiển thị ảnh\n",
    "for (i, imagePath) in enumerate(imagePaths):\n",
    "    # Nạp ảnh\n",
    "    image = cv2.imread(imagePath)\n",
    "    # Tạo label dự đoán trên ảnh\n",
    "    cv2.putText(image, \"label: {}\".format(classLabels[preds[i]]), (10, 30), cv2.FONT_HERSHEY_SIMPLEX, 0.7, (0, 255, 0), 2)\n",
    "    # Hiển thị ảnh\n",
    "    cv2.imshow(\"Image\", image)\n",
    "    cv2.waitKey(0)  # press space to change to next image"
   ]
  }
 ],
 "metadata": {
  "kernelspec": {
   "display_name": ".venv",
   "language": "python",
   "name": "python3"
  },
  "language_info": {
   "codemirror_mode": {
    "name": "ipython",
    "version": 3
   },
   "file_extension": ".py",
   "mimetype": "text/x-python",
   "name": "python",
   "nbconvert_exporter": "python",
   "pygments_lexer": "ipython3",
   "version": "3.12.5"
  }
 },
 "nbformat": 4,
 "nbformat_minor": 2
}
